{
 "cells": [
  {
   "attachments": {},
   "cell_type": "markdown",
   "metadata": {},
   "source": [
    "# Data Cleaning & Training Preparation\n",
    "\n",
    "__Goals:__ \n",
    "1. Rename the collected raw data files\n",
    "1. Image supplementation to increase number of images to train on"
   ]
  },
  {
   "cell_type": "markdown",
   "metadata": {},
   "source": [
    "## 0 Setup"
   ]
  },
  {
   "cell_type": "markdown",
   "metadata": {},
   "source": [
    "### 0.1 Imports"
   ]
  },
  {
   "cell_type": "code",
   "execution_count": 20,
   "metadata": {},
   "outputs": [],
   "source": [
    "# import utility libraries\n",
    "import cv2\n",
    "import os\n",
    "import random\n",
    "import re\n",
    "\n",
    "# import data analysis libraries\n",
    "import matplotlib.pyplot as plt\n",
    "import numpy as np"
   ]
  },
  {
   "cell_type": "markdown",
   "metadata": {},
   "source": [
    "## 1. Rename raw data"
   ]
  },
  {
   "cell_type": "markdown",
   "metadata": {},
   "source": [
    "### 1.1 Renaming utility functions"
   ]
  },
  {
   "cell_type": "code",
   "execution_count": null,
   "metadata": {},
   "outputs": [],
   "source": [
    "def rename_training_data(src_dir: str, dest_dir: str):\n",
    "    for i, old_fname in enumerate(sorted(os.listdir(src_dir))):\n",
    "        new_fname_base = f'{i+1}'.zfill(6)\n",
    "        new_fname = f'{new_fname_base}.jpg'\n",
    "\n",
    "        old_fpath = os.path.join(src_dir, old_fname)\n",
    "        new_fpath = os.path.join(dest_dir, new_fname)\n",
    "\n",
    "        os.rename(old_fpath, new_fpath)\n",
    "    return"
   ]
  },
  {
   "cell_type": "markdown",
   "metadata": {},
   "source": [
    "### 1.2 Execute rename"
   ]
  },
  {
   "cell_type": "code",
   "execution_count": 21,
   "metadata": {},
   "outputs": [],
   "source": [
    "# create a top-level training data directory\n",
    "train_dirpath = '../data/train'\n",
    "\n",
    "# get the directory name for the needs \"braces\" training data\n",
    "braces_train_dirpath = os.path.join(train_dirpath, 'braces')\n",
    "\n",
    "# get the directory name for the doesn't need \"no_braces\" training data\n",
    "no_braces_train_dirpath = os.path.join(train_dirpath, 'no_braces')"
   ]
  },
  {
   "cell_type": "markdown",
   "metadata": {},
   "source": [
    "Upload the images saved from stage __2 Raw Image Data Extraction__ into `data/raw/braces` and `data/raw/no_braces` directories"
   ]
  },
  {
   "cell_type": "code",
   "execution_count": 25,
   "metadata": {},
   "outputs": [],
   "source": [
    "\n",
    "rename_training_data('../data/raw/braces', braces_train_dirpath)\n",
    "rename_training_data('../data/raw/no_braces/', no_braces_train_dirpath)"
   ]
  },
  {
   "cell_type": "markdown",
   "metadata": {},
   "source": [
    "## 2 Image supplementation"
   ]
  },
  {
   "cell_type": "markdown",
   "metadata": {},
   "source": [
    "### 2.1 Set Up"
   ]
  },
  {
   "cell_type": "code",
   "execution_count": null,
   "metadata": {},
   "outputs": [],
   "source": [
    "# define global variables\n",
    "DATA_DIR = '../data'\n",
    "TRAIN_DIR = os.path.join(DATA_DIR, 'train')\n",
    "BRACES_DIR = os.path.join(TRAIN_DIR, 'braces')\n",
    "NOBRACES_DIR = os.path.join(TRAIN_DIR, 'no_braces')"
   ]
  },
  {
   "cell_type": "code",
   "execution_count": null,
   "metadata": {},
   "outputs": [],
   "source": [
    "class ImageSupplementer:\n",
    "\n",
    "    def __init__(self):\n",
    "        pass\n",
    "\n",
    "    def resize(self, img, output_dim: None):\n",
    "\n",
    "        # if output dimensions give, use them\n",
    "        if output_dim:\n",
    "            output_width = output_dim[0]\n",
    "            output_height = output_dim[1]\n",
    "\n",
    "        # else flip the width and height\n",
    "        else:\n",
    "            output_width = img.shape[1]\n",
    "            output_height = img.shape[0]\n",
    "\n",
    "        # resize input image\n",
    "        output_img = cv2.resize(img, (output_width, output_height))\n",
    "\n",
    "        return output_img\n",
    "\n",
    "\n",
    "    def zoom(self, img, zoom_max = 10, zoom_min = 5):\n",
    "\n",
    "        # create an array of zoom factors from zoom_min to zoom_max\n",
    "        zoom_lst = list(range(zoom_min, zoom_max + 1))\n",
    "\n",
    "        # get a random index\n",
    "        idx = random.randrange((zoom_max - zoom_min + 1))\n",
    "\n",
    "        # randomly select zoom factor\n",
    "        zoom_px = zoom_lst[idx]\n",
    "\n",
    "        # divide by 2 bc we are splitting horizontal/vertical zoom evenly\n",
    "        half_zoom = zoom_px // 2\n",
    "\n",
    "        # get original image width\n",
    "        img_width = img.shape[1]\n",
    "        img_height = img.shape[0]\n",
    "\n",
    "        # slice image array based on zoom factor\n",
    "        output_img = img[half_zoom:(img_height - half_zoom), half_zoom:(img_width - half_zoom)]\n",
    "\n",
    "        # resize image to original dimensions\n",
    "        output_img = self.resize(output_img, output_dim=(img_width, img_height))\n",
    "\n",
    "        return output_img\n",
    "\n",
    "\n",
    "    def shift(self, img, shift_max = 10, shift_min = 5):\n",
    "        '''returns 4 shifted images in a tuple:\n",
    "                (left_shift, up_shift, right_shift, down_shift)\n",
    "        '''\n",
    "\n",
    "        shift_lst = list(range(shift_min, shift_max + 1))\n",
    "        left_shift, up_shift, right_shift, down_shift = random.sample(shift_lst, 4)\n",
    "        left_resize, up_resize, right_resize, down_resize = [v > 0.5 for v in np.random.random(size=4)]\n",
    "        img_width = img.shape[1]\n",
    "        img_height = img.shape[0]\n",
    "\n",
    "        img_left = self.resize(img[:, :(img_width - left_shift)], output_dim=(img_width, img_height)) if left_resize else img[:, :(img_width - left_shift)]\n",
    "        img_up = self.resize(img[:(img_height - up_shift), :], output_dim=(img_width, img_height)) if up_resize else img[:(img_height - up_shift), :]\n",
    "        img_right = self.resize(img[:(img_height - right_shift), :], output_dim=(img_width, img_height)) if right_resize else img[:(img_height - right_shift), :]\n",
    "        img_down = self.resize(img[:(img_height - down_shift), :], output_dim=(img_width, img_height)) if down_resize else img[:(img_height - down_shift), :]\n",
    "\n",
    "        return (img_left, img_up, img_right, img_down)\n",
    "\n",
    "\n",
    "    def altered_img(self, img, zoom_max = 10, zoom_min = 5, shift_max = 10, shift_min = 5):\n",
    "        '''\n",
    "            convenience function to zoom and shift image randomly within a given range\n",
    "\n",
    "            returns - list of images in the format [zoomed, shifted left, shifted up, shifted right, shifted down]\n",
    "        '''\n",
    "\n",
    "        img_zoom = self.zoom(img, zoom_max, zoom_min)\n",
    "        img_left, img_up, img_right, img_down = self.shift(img, shift_max, shift_min)\n",
    "\n",
    "        return [img_zoom, img_left, img_up, img_right, img_down]\n",
    "\n",
    "    def read_img(self, fpath):\n",
    "        '''\n",
    "            convenience function to read image (overwrite if needed)\n",
    "        '''\n",
    "\n",
    "        return plt.imread(fpath)\n",
    "\n",
    "    def generate_alt_imgs(self, fpath, zoom_max = 10, zoom_min = 5, shift_max = 10, shift_min = 5):\n",
    "        '''\n",
    "            convenience function to read and alter images\n",
    "        '''\n",
    "\n",
    "        img = self.read_img(fpath)\n",
    "        return self.altered_img(img, zoom_max, zoom_min, shift_max, shift_min)\n",
    "\n",
    "    def generate_alt_img_fpaths(self, fpath):\n",
    "        dirpath, fname = os.path.split(fpath)\n",
    "        fbase, ext = os.path.splitext(fname)\n",
    "\n",
    "        new_fpaths = []\n",
    "        for alt in ['zoom', 'left', 'up', 'right', 'down']:\n",
    "            new_fbase = f'{fbase}_{alt}'\n",
    "            new_fpath = os.path.join(dirpath, new_fbase + ext)\n",
    "            new_fpaths.append(new_fpath)\n",
    "\n",
    "        return new_fpaths\n",
    "\n",
    "    def generate_and_save_imgs(self, fpath, zoom_max = 10, zoom_min = 5, shift_max = 10, shift_min = 5):\n",
    "\n",
    "        img_fpath_data_list = list(zip(self.generate_alt_img_fpaths(fpath), self.generate_alt_imgs(fpath, zoom_max, zoom_min, shift_max, shift_min)))\n",
    "        print(f'successfully generated alternate images...')\n",
    "        for fpath, img in img_fpath_data_list:\n",
    "            plt.imsave(fpath, img)\n",
    "        print(f'successfully saved alternate images.')\n",
    "        return"
   ]
  },
  {
   "cell_type": "markdown",
   "metadata": {},
   "source": [
    "### 2.2 Execute image supplementation"
   ]
  },
  {
   "cell_type": "code",
   "execution_count": null,
   "metadata": {},
   "outputs": [],
   "source": [
    "original_img_re = re.compile(r'[0-9]{6}\\.[A-Za-z]{1,3}')\n",
    "\n",
    "# get the file paths for the \"needs braces\" raw data\n",
    "braces_fpaths = [os.path.join(BRACES_DIR, fname) for fname in os.listdir(BRACES_DIR) if original_img_re.match(fname)]\n",
    "# get the file paths for the \"doesn't need braces\" raw data\n",
    "nobraces_fpaths = [os.path.join(NOBRACES_DIR, fname) for fname in os.listdir(NOBRACES_DIR) if original_img_re.match(fname)]\n",
    "\n",
    "# concatenate the file paths\n",
    "img_fpaths = braces_fpaths + nobraces_fpaths"
   ]
  },
  {
   "cell_type": "code",
   "execution_count": null,
   "metadata": {},
   "outputs": [],
   "source": [
    "# initialize image supplementer\n",
    "img_supplementer = ImageSupplementer()\n",
    "\n",
    "# generate and save the training data\n",
    "for img_fpath in img_fpaths:\n",
    "    print(f'supplementing {img_fpath}...')\n",
    "    img_supplementer.generate_and_save_imgs(img_fpath, zoom_max = 15, zoom_min = 5, shift_max = 15, shift_min = 5)\n",
    "    print('='*50)"
   ]
  },
  {
   "cell_type": "markdown",
   "metadata": {},
   "source": [
    "### 2.3 Review image supplementation"
   ]
  },
  {
   "cell_type": "code",
   "execution_count": null,
   "metadata": {},
   "outputs": [],
   "source": [
    "img_1_fpath = img_fpaths[0]\n",
    "a = os.path.splitext(os.path.split(img_1_fpath)[1])[0]\n",
    "img_1_arr = [fpath for fpath in img_fpaths if a in fpath]\n",
    "\n",
    "fig, axs = plt.subplots(nrows=len(img_1_arr), ncols=1, figsize=(8, 42))\n",
    "for i, fpath in enumerate(img_1_arr):\n",
    "    axs[i].set_title(fpath)\n",
    "    axs[i].imshow(plt.imread(fpath))"
   ]
  }
 ],
 "metadata": {
  "kernelspec": {
   "display_name": "Python 3.9.12 ('base')",
   "language": "python",
   "name": "python3"
  },
  "language_info": {
   "codemirror_mode": {
    "name": "ipython",
    "version": 3
   },
   "file_extension": ".py",
   "mimetype": "text/x-python",
   "name": "python",
   "nbconvert_exporter": "python",
   "pygments_lexer": "ipython3",
   "version": "3.9.12"
  },
  "orig_nbformat": 4,
  "vscode": {
   "interpreter": {
    "hash": "a859bd104e2b0dc6222e80818ae9e9b39d2fa06467c95c309b6bb96f19466b04"
   }
  }
 },
 "nbformat": 4,
 "nbformat_minor": 2
}
